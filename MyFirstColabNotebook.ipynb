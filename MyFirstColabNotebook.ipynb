{
  "nbformat": 4,
  "nbformat_minor": 0,
  "metadata": {
    "colab": {
      "name": "MyFirstColabNotebook.ipynb",
      "provenance": [],
      "authorship_tag": "ABX9TyOQR+ITK2PDiyck9Sn107zd",
      "include_colab_link": true
    },
    "kernelspec": {
      "name": "python3",
      "display_name": "Python 3"
    },
    "language_info": {
      "name": "python"
    }
  },
  "cells": [
    {
      "cell_type": "markdown",
      "metadata": {
        "id": "view-in-github",
        "colab_type": "text"
      },
      "source": [
        "<a href=\"https://colab.research.google.com/github/pvkarthikeya/pvkarthikeya.github.io/blob/main/MyFirstColabNotebook.ipynb\" target=\"_parent\"><img src=\"https://colab.research.google.com/assets/colab-badge.svg\" alt=\"Open In Colab\"/></a>"
      ]
    },
    {
      "cell_type": "markdown",
      "metadata": {
        "id": "OsPm-92lFrDY"
      },
      "source": [
        "This is **bold**\n",
        "This is *italic*\n",
        "This is ~Strikethrough~"
      ]
    },
    {
      "cell_type": "markdown",
      "metadata": {
        "id": "UPQgJ3GOF6h5"
      },
      "source": [
        "$\\sqrt{3x-1}+(1+x)^2$"
      ]
    },
    {
      "cell_type": "markdown",
      "metadata": {
        "id": "qt3X-BCnGaje"
      },
      "source": [
        "$e^x=\\sum_{1=0}^\\infty\\frac{1}{1!}x^i$"
      ]
    },
    {
      "cell_type": "markdown",
      "metadata": {
        "id": "JKw9wYguIaG3"
      },
      "source": [
        "- $3x_1 + 6x_2 + x_3 =< 28$\n",
        "- $7x_1 + 3x_2 + 2x_3 =<37$\n",
        "- $4x_1 + 5x_2 + 2x_3 =<19$\n",
        "- $x_1,x_2,x_3 >=0$\n",
        "\n",
        "The trial vector is calculated as follows:\n",
        "\n",
        "- $U_i(t) = x_i(t) + \\beta(\\hat{x}(t) - x_i(t)) + \\beta\\sum_{k=1}^{n_v}(x_{i1,k}(t) - x_{i2,k}(t))$\n",
        "\n",
        "$f(x_1,x_2) = 20 + e - 20 exp(-0.2\\sqrt{\\frac{1}{n}(x_{1}^{2}+x_{2}^{2})}) - exp(\\frac{1}{n}cos(2\\pi{x_1}) + cos(2\\pi{x_2}))$\n",
        "$x ∈ [-5,5]$\n",
        "\n",
        ">$A_{m,n} = \n",
        " \\begin{pmatrix}\n",
        "  a_{1,1} & a_{1,2} & \\cdots & a_{1,n} \\\\\n",
        "  a_{2,1} & a_{2,2} & \\cdots & a_{2,n} \\\\\n",
        "  \\vdots  & \\vdots  & \\vdots & \\vdots \\\\\n",
        "  a_{m,1} & a_{m,2} & \\cdots & a_{m,n}\n",
        " \\end{pmatrix}$"
      ]
    },
    {
      "cell_type": "markdown",
      "metadata": {
        "id": "HPpVH5r_WX1n"
      },
      "source": [
        ""
      ]
    }
  ]
}